{
 "cells": [
  {
   "cell_type": "markdown",
   "id": "1d4d72dd-7118-461d-a5f0-af2596aade34",
   "metadata": {},
   "source": [
    "Exercise 4.9"
   ]
  },
  {
   "cell_type": "code",
   "execution_count": 3,
   "id": "400aac00-8514-477b-8d6a-d3d4df9be2ca",
   "metadata": {},
   "outputs": [],
   "source": [
    "import pandas as pd\n",
    "import numpy as np\n",
    "import os\n",
    "import matplotlib.pyplot as plt\n",
    "import seaborn  as sns\n",
    "import scipy"
   ]
  },
  {
   "cell_type": "code",
   "execution_count": 5,
   "id": "0dae8aca-3d70-434e-802d-87c006a08647",
   "metadata": {},
   "outputs": [],
   "source": [
    "path = r'C:\\Users\\91928\\Documents\\Instacart Basket Analysis\\Data\\Prepared Data'"
   ]
  },
  {
   "cell_type": "code",
   "execution_count": 7,
   "id": "adf75342-c7b5-4de7-bdfd-eab751fe4cb5",
   "metadata": {},
   "outputs": [],
   "source": [
    "df_vis = pd.read_pickle(os.path.join(path,'Very_Final_aggregated_ords_prods_merge.pkl'),compression='infer')"
   ]
  },
  {
   "cell_type": "code",
   "execution_count": 9,
   "id": "52980698-9043-4e10-94e2-80e1190df60c",
   "metadata": {},
   "outputs": [
    {
     "data": {
      "text/html": [
       "<div>\n",
       "<style scoped>\n",
       "    .dataframe tbody tr th:only-of-type {\n",
       "        vertical-align: middle;\n",
       "    }\n",
       "\n",
       "    .dataframe tbody tr th {\n",
       "        vertical-align: top;\n",
       "    }\n",
       "\n",
       "    .dataframe thead th {\n",
       "        text-align: right;\n",
       "    }\n",
       "</style>\n",
       "<table border=\"1\" class=\"dataframe\">\n",
       "  <thead>\n",
       "    <tr style=\"text-align: right;\">\n",
       "      <th></th>\n",
       "      <th>Unnamed: 0_x</th>\n",
       "      <th>product_id</th>\n",
       "      <th>product_name</th>\n",
       "      <th>aisle_id</th>\n",
       "      <th>department_id</th>\n",
       "      <th>prices</th>\n",
       "      <th>Unnamed: 0_y</th>\n",
       "      <th>order_id</th>\n",
       "      <th>user_id</th>\n",
       "      <th>eval_set</th>\n",
       "      <th>...</th>\n",
       "      <th>add_to_cart_order</th>\n",
       "      <th>reordered</th>\n",
       "      <th>_merge</th>\n",
       "      <th>Busiest Day</th>\n",
       "      <th>Busiest Days</th>\n",
       "      <th>busiest_period_of_day</th>\n",
       "      <th>average_price</th>\n",
       "      <th>Spending Type</th>\n",
       "      <th>Median of days prior order</th>\n",
       "      <th>Customer Frequency</th>\n",
       "    </tr>\n",
       "  </thead>\n",
       "  <tbody>\n",
       "    <tr>\n",
       "      <th>0</th>\n",
       "      <td>0.0</td>\n",
       "      <td>1.0</td>\n",
       "      <td>Chocolate Sandwich Cookies</td>\n",
       "      <td>61.0</td>\n",
       "      <td>19.0</td>\n",
       "      <td>5.8</td>\n",
       "      <td>1987.0</td>\n",
       "      <td>3139998.0</td>\n",
       "      <td>138.0</td>\n",
       "      <td>prior</td>\n",
       "      <td>...</td>\n",
       "      <td>5.0</td>\n",
       "      <td>0.0</td>\n",
       "      <td>both</td>\n",
       "      <td>Regular Day</td>\n",
       "      <td>Regular Days</td>\n",
       "      <td>Most orders</td>\n",
       "      <td>6.935811</td>\n",
       "      <td>Low Spender</td>\n",
       "      <td>8.0</td>\n",
       "      <td>Frequent customer</td>\n",
       "    </tr>\n",
       "    <tr>\n",
       "      <th>1</th>\n",
       "      <td>0.0</td>\n",
       "      <td>1.0</td>\n",
       "      <td>Chocolate Sandwich Cookies</td>\n",
       "      <td>61.0</td>\n",
       "      <td>19.0</td>\n",
       "      <td>5.8</td>\n",
       "      <td>1989.0</td>\n",
       "      <td>1977647.0</td>\n",
       "      <td>138.0</td>\n",
       "      <td>prior</td>\n",
       "      <td>...</td>\n",
       "      <td>1.0</td>\n",
       "      <td>1.0</td>\n",
       "      <td>both</td>\n",
       "      <td>Regular Day</td>\n",
       "      <td>Regular Days</td>\n",
       "      <td>Average orders</td>\n",
       "      <td>6.935811</td>\n",
       "      <td>Low Spender</td>\n",
       "      <td>8.0</td>\n",
       "      <td>Frequent customer</td>\n",
       "    </tr>\n",
       "    <tr>\n",
       "      <th>2</th>\n",
       "      <td>0.0</td>\n",
       "      <td>1.0</td>\n",
       "      <td>Chocolate Sandwich Cookies</td>\n",
       "      <td>61.0</td>\n",
       "      <td>19.0</td>\n",
       "      <td>5.8</td>\n",
       "      <td>11433.0</td>\n",
       "      <td>389851.0</td>\n",
       "      <td>709.0</td>\n",
       "      <td>prior</td>\n",
       "      <td>...</td>\n",
       "      <td>20.0</td>\n",
       "      <td>0.0</td>\n",
       "      <td>both</td>\n",
       "      <td>Busiest day</td>\n",
       "      <td>Busiests Days</td>\n",
       "      <td>Average orders</td>\n",
       "      <td>7.930208</td>\n",
       "      <td>Low Spender</td>\n",
       "      <td>8.0</td>\n",
       "      <td>Frequent customer</td>\n",
       "    </tr>\n",
       "    <tr>\n",
       "      <th>3</th>\n",
       "      <td>0.0</td>\n",
       "      <td>1.0</td>\n",
       "      <td>Chocolate Sandwich Cookies</td>\n",
       "      <td>61.0</td>\n",
       "      <td>19.0</td>\n",
       "      <td>5.8</td>\n",
       "      <td>12198.0</td>\n",
       "      <td>652770.0</td>\n",
       "      <td>764.0</td>\n",
       "      <td>prior</td>\n",
       "      <td>...</td>\n",
       "      <td>10.0</td>\n",
       "      <td>0.0</td>\n",
       "      <td>both</td>\n",
       "      <td>Regular Day</td>\n",
       "      <td>Slowest Days</td>\n",
       "      <td>Most orders</td>\n",
       "      <td>4.972414</td>\n",
       "      <td>Low Spender</td>\n",
       "      <td>9.0</td>\n",
       "      <td>Frequent customer</td>\n",
       "    </tr>\n",
       "    <tr>\n",
       "      <th>4</th>\n",
       "      <td>0.0</td>\n",
       "      <td>1.0</td>\n",
       "      <td>Chocolate Sandwich Cookies</td>\n",
       "      <td>61.0</td>\n",
       "      <td>19.0</td>\n",
       "      <td>5.8</td>\n",
       "      <td>12200.0</td>\n",
       "      <td>1813452.0</td>\n",
       "      <td>764.0</td>\n",
       "      <td>prior</td>\n",
       "      <td>...</td>\n",
       "      <td>11.0</td>\n",
       "      <td>1.0</td>\n",
       "      <td>both</td>\n",
       "      <td>Least Busy</td>\n",
       "      <td>Slowest Days</td>\n",
       "      <td>Average orders</td>\n",
       "      <td>4.972414</td>\n",
       "      <td>Low Spender</td>\n",
       "      <td>9.0</td>\n",
       "      <td>Frequent customer</td>\n",
       "    </tr>\n",
       "  </tbody>\n",
       "</table>\n",
       "<p>5 rows × 24 columns</p>\n",
       "</div>"
      ],
      "text/plain": [
       "   Unnamed: 0_x  product_id                product_name  aisle_id  \\\n",
       "0           0.0         1.0  Chocolate Sandwich Cookies      61.0   \n",
       "1           0.0         1.0  Chocolate Sandwich Cookies      61.0   \n",
       "2           0.0         1.0  Chocolate Sandwich Cookies      61.0   \n",
       "3           0.0         1.0  Chocolate Sandwich Cookies      61.0   \n",
       "4           0.0         1.0  Chocolate Sandwich Cookies      61.0   \n",
       "\n",
       "   department_id  prices  Unnamed: 0_y   order_id  user_id eval_set  ...  \\\n",
       "0           19.0     5.8        1987.0  3139998.0    138.0    prior  ...   \n",
       "1           19.0     5.8        1989.0  1977647.0    138.0    prior  ...   \n",
       "2           19.0     5.8       11433.0   389851.0    709.0    prior  ...   \n",
       "3           19.0     5.8       12198.0   652770.0    764.0    prior  ...   \n",
       "4           19.0     5.8       12200.0  1813452.0    764.0    prior  ...   \n",
       "\n",
       "   add_to_cart_order  reordered  _merge  Busiest Day   Busiest Days  \\\n",
       "0                5.0        0.0    both  Regular Day   Regular Days   \n",
       "1                1.0        1.0    both  Regular Day   Regular Days   \n",
       "2               20.0        0.0    both  Busiest day  Busiests Days   \n",
       "3               10.0        0.0    both  Regular Day   Slowest Days   \n",
       "4               11.0        1.0    both   Least Busy   Slowest Days   \n",
       "\n",
       "   busiest_period_of_day average_price Spending Type  \\\n",
       "0            Most orders      6.935811   Low Spender   \n",
       "1         Average orders      6.935811   Low Spender   \n",
       "2         Average orders      7.930208   Low Spender   \n",
       "3            Most orders      4.972414   Low Spender   \n",
       "4         Average orders      4.972414   Low Spender   \n",
       "\n",
       "  Median of days prior order Customer Frequency  \n",
       "0                        8.0  Frequent customer  \n",
       "1                        8.0  Frequent customer  \n",
       "2                        8.0  Frequent customer  \n",
       "3                        9.0  Frequent customer  \n",
       "4                        9.0  Frequent customer  \n",
       "\n",
       "[5 rows x 24 columns]"
      ]
     },
     "execution_count": 9,
     "metadata": {},
     "output_type": "execute_result"
    }
   ],
   "source": [
    "df_vis.head(5)"
   ]
  },
  {
   "cell_type": "code",
   "execution_count": 9,
   "id": "3465087d-9096-49d2-b36d-ec5a97bf7da9",
   "metadata": {},
   "outputs": [
    {
     "data": {
      "text/plain": [
       "Index(['Unnamed: 0_x', 'product_id', 'product_name', 'aisle_id',\n",
       "       'department_id', 'prices', 'Unnamed: 0_y', 'order_id', 'user_id',\n",
       "       'eval_set', 'order_number', 'order_day', 'order_hour_of_day',\n",
       "       'days_since_prior_order', 'add_to_cart_order', 'reordered', '_merge',\n",
       "       'Busiest Day', 'Busiest Days', 'busiest_period_of_day', 'max_order',\n",
       "       'loyalty_flag', 'average_price', 'Spending Type',\n",
       "       'Median of days prior order', 'Customer Frequency'],\n",
       "      dtype='object')"
      ]
     },
     "execution_count": 9,
     "metadata": {},
     "output_type": "execute_result"
    }
   ],
   "source": [
    "df_vis.columns"
   ]
  },
  {
   "cell_type": "code",
   "execution_count": 15,
   "id": "29efdae1-0fe0-4958-a929-245e7b1f4244",
   "metadata": {},
   "outputs": [
    {
     "data": {
      "text/plain": [
       "<Axes: xlabel='order_day'>"
      ]
     },
     "execution_count": 15,
     "metadata": {},
     "output_type": "execute_result"
    },
    {
     "data": {
      "image/png": "[encoded data removed]",
      "text/plain": [
       "<Figure size 640x480 with 1 Axes>"
      ]
     },
     "metadata": {},
     "output_type": "display_data"
    }
   ],
   "source": [
    "#bar chart\n",
    "df_vis['order_day'].value_counts().plot.bar()"
   ]
  },
  {
   "cell_type": "code",
   "execution_count": 17,
   "id": "91e82a76-54c4-466a-a92f-2729fc371d4b",
   "metadata": {},
   "outputs": [
    {
     "data": {
      "text/plain": [
       "order_day\n",
       "0.0    6252941\n",
       "1.0    5696724\n",
       "2.0    4243173\n",
       "3.0    3868747\n",
       "4.0    3812390\n",
       "5.0    4236989\n",
       "6.0    4530304\n",
       "Name: count, dtype: int64"
      ]
     },
     "execution_count": 17,
     "metadata": {},
     "output_type": "execute_result"
    }
   ],
   "source": [
    "#sorting the freq\n",
    "df_vis['order_day'].value_counts().sort_index()"
   ]
  },
  {
   "cell_type": "code",
   "execution_count": 23,
   "id": "8d0bf691-e63d-48cb-871a-17ab72c38c56",
   "metadata": {},
   "outputs": [
    {
     "data": {
      "text/plain": [
       "<Axes: xlabel='order_day'>"
      ]
     },
     "execution_count": 23,
     "metadata": {},
     "output_type": "execute_result"
    },
    {
     "data": {
      "image/png": "[encoded data removed]",
      "text/plain": [
       "<Figure size 640x480 with 1 Axes>"
      ]
     },
     "metadata": {},
     "output_type": "display_data"
    }
   ],
   "source": [
    "#sorting the freq bar\n",
    "df_vis['order_day'].value_counts().sort_index().plot.bar()"
   ]
  },
  {
   "cell_type": "code",
   "execution_count": 127,
   "id": "6735b2bd-8903-44ad-ad67-9a01d0d93304",
   "metadata": {},
   "outputs": [
    {
     "data": {
      "text/plain": [
       "<Axes: xlabel='orders_day_of_week'>"
      ]
     },
     "execution_count": 127,
     "metadata": {},
     "output_type": "execute_result"
    },
    {
     "data": {
      "image/png": "[encoded data removed]",
      "text/plain": [
       "<Figure size 640x480 with 1 Axes>"
      ]
     },
     "metadata": {},
     "output_type": "display_data"
    }
   ],
   "source": [
    "#customizing the bar chart\n",
    "df_vis['orders_day_of_week'].value_counts().sort_index().plot.bar(color =['Red','Blue','Green','Yellow','Violet','Purple','Black'])"
   ]
  },
  {
   "cell_type": "code",
   "execution_count": 137,
   "id": "d8d895d0-339b-4301-924e-6cbe4c46a811",
   "metadata": {},
   "outputs": [
    {
     "data": {
      "image/png": "[encoded data removed]",
      "text/plain": [
       "<Figure size 640x480 with 1 Axes>"
      ]
     },
     "metadata": {},
     "output_type": "display_data"
    }
   ],
   "source": [
    "bar = df_vis['orders_day_of_week'].value_counts().plot.bar(color = ['Red','Blue','Green','Yellow','Violet','Purple','Black'])"
   ]
  },
  {
   "cell_type": "code",
   "execution_count": 139,
   "id": "9f3df6e2-2beb-4574-92e6-4fceb5a67bd0",
   "metadata": {},
   "outputs": [],
   "source": [
    "bar.figure.savefig(os.path.join(path,'bar_chart.png'))"
   ]
  },
  {
   "cell_type": "code",
   "execution_count": 129,
   "id": "0ba9a813-70c4-4e4c-9753-63429062275f",
   "metadata": {},
   "outputs": [
    {
     "data": {
      "text/plain": [
       "<Axes: ylabel='Frequency'>"
      ]
     },
     "execution_count": 129,
     "metadata": {},
     "output_type": "execute_result"
    },
    {
     "data": {
      "image/png": "[encoded data removed]",
      "text/plain": [
       "<Figure size 640x480 with 1 Axes>"
      ]
     },
     "metadata": {},
     "output_type": "display_data"
    }
   ],
   "source": [
    "#plotting histogram\n",
    "df_vis['prices'].plot.hist(bins =75)"
   ]
  },
  {
   "cell_type": "code",
   "execution_count": 15,
   "id": "9b33983f-d75a-41d3-b8a9-bee0713abaf3",
   "metadata": {},
   "outputs": [
    {
     "data": {
      "text/plain": [
       "count    3.240487e+07\n",
       "mean     1.198022e+01\n",
       "std      4.956554e+02\n",
       "min      1.000000e+00\n",
       "25%      4.200000e+00\n",
       "50%      7.400000e+00\n",
       "75%      1.130000e+01\n",
       "max      9.999900e+04\n",
       "Name: prices, dtype: float64"
      ]
     },
     "execution_count": 15,
     "metadata": {},
     "output_type": "execute_result"
    }
   ],
   "source": [
    "df_vis['prices'].describe()"
   ]
  },
  {
   "cell_type": "code",
   "execution_count": 131,
   "id": "0e094b8c-df4b-479f-8a62-83c618787dce",
   "metadata": {},
   "outputs": [
    {
     "data": {
      "text/plain": [
       "7.790994274244714"
      ]
     },
     "execution_count": 131,
     "metadata": {},
     "output_type": "execute_result"
    }
   ],
   "source": [
    "df_vis['prices'].mean()"
   ]
  },
  {
   "cell_type": "code",
   "execution_count": 111,
   "id": "90c07f54-0299-42ee-9c62-121de626fcf6",
   "metadata": {},
   "outputs": [
    {
     "data": {
      "text/plain": [
       "7.4"
      ]
     },
     "execution_count": 111,
     "metadata": {},
     "output_type": "execute_result"
    }
   ],
   "source": [
    "df_vis['prices'].median()"
   ]
  },
  {
   "cell_type": "code",
   "execution_count": 113,
   "id": "d3391b8e-f4d3-4950-ad92-28b230668bbd",
   "metadata": {},
   "outputs": [
    {
     "data": {
      "text/plain": [
       "25.0"
      ]
     },
     "execution_count": 113,
     "metadata": {},
     "output_type": "execute_result"
    }
   ],
   "source": [
    "df_vis['prices'].max()"
   ]
  },
  {
   "cell_type": "code",
   "execution_count": 23,
   "id": "b26fefda-b67f-4a42-ba8c-7a17ddf0c953",
   "metadata": {},
   "outputs": [
    {
     "data": {
      "text/plain": [
       "<Axes: xlabel='prices', ylabel='prices'>"
      ]
     },
     "execution_count": 23,
     "metadata": {},
     "output_type": "execute_result"
    },
    {
     "data": {
      "image/png": "[encoded data removed]",
      "text/plain": [
       "<Figure size 640x480 with 1 Axes>"
      ]
     },
     "metadata": {},
     "output_type": "display_data"
    }
   ],
   "source": [
    "#scatterplot\n",
    "sns.scatterplot(x = 'prices',y = 'prices',data = df_vis)"
   ]
  },
  {
   "cell_type": "code",
   "execution_count": 25,
   "id": "f7653b41-9e25-4ddb-8c1f-c4c703fdd4f0",
   "metadata": {},
   "outputs": [
    {
     "data": {
      "text/html": [
       "<div>\n",
       "<style scoped>\n",
       "    .dataframe tbody tr th:only-of-type {\n",
       "        vertical-align: middle;\n",
       "    }\n",
       "\n",
       "    .dataframe tbody tr th {\n",
       "        vertical-align: top;\n",
       "    }\n",
       "\n",
       "    .dataframe thead th {\n",
       "        text-align: right;\n",
       "    }\n",
       "</style>\n",
       "<table border=\"1\" class=\"dataframe\">\n",
       "  <thead>\n",
       "    <tr style=\"text-align: right;\">\n",
       "      <th></th>\n",
       "      <th>Unnamed: 0_x</th>\n",
       "      <th>product_id</th>\n",
       "      <th>product_name</th>\n",
       "      <th>aisle_id</th>\n",
       "      <th>department_id</th>\n",
       "      <th>prices</th>\n",
       "      <th>Unnamed: 0_y</th>\n",
       "      <th>order_id</th>\n",
       "      <th>user_id</th>\n",
       "      <th>eval_set</th>\n",
       "      <th>...</th>\n",
       "      <th>add_to_cart_order</th>\n",
       "      <th>reordered</th>\n",
       "      <th>_merge</th>\n",
       "      <th>Busiest Day</th>\n",
       "      <th>Busiest Days</th>\n",
       "      <th>busiest_period_of_day</th>\n",
       "      <th>average_price</th>\n",
       "      <th>Spending Type</th>\n",
       "      <th>Median of days prior order</th>\n",
       "      <th>Customer Frequency</th>\n",
       "    </tr>\n",
       "  </thead>\n",
       "  <tbody>\n",
       "    <tr>\n",
       "      <th>13100150</th>\n",
       "      <td>21554.0</td>\n",
       "      <td>21553.0</td>\n",
       "      <td>Lowfat 2% Milkfat Cottage Cheese</td>\n",
       "      <td>108.0</td>\n",
       "      <td>16.0</td>\n",
       "      <td>14900.0</td>\n",
       "      <td>171.0</td>\n",
       "      <td>912404.0</td>\n",
       "      <td>17.0</td>\n",
       "      <td>prior</td>\n",
       "      <td>...</td>\n",
       "      <td>5.0</td>\n",
       "      <td>0.0</td>\n",
       "      <td>both</td>\n",
       "      <td>Regular Day</td>\n",
       "      <td>Regular Days</td>\n",
       "      <td>Most orders</td>\n",
       "      <td>108.648299</td>\n",
       "      <td>Higher Spender</td>\n",
       "      <td>5.0</td>\n",
       "      <td>Frequent customer</td>\n",
       "    </tr>\n",
       "    <tr>\n",
       "      <th>13100151</th>\n",
       "      <td>21554.0</td>\n",
       "      <td>21553.0</td>\n",
       "      <td>Lowfat 2% Milkfat Cottage Cheese</td>\n",
       "      <td>108.0</td>\n",
       "      <td>16.0</td>\n",
       "      <td>14900.0</td>\n",
       "      <td>181.0</td>\n",
       "      <td>603376.0</td>\n",
       "      <td>17.0</td>\n",
       "      <td>prior</td>\n",
       "      <td>...</td>\n",
       "      <td>3.0</td>\n",
       "      <td>1.0</td>\n",
       "      <td>both</td>\n",
       "      <td>Regular Day</td>\n",
       "      <td>Regular Days</td>\n",
       "      <td>Most orders</td>\n",
       "      <td>108.648299</td>\n",
       "      <td>Higher Spender</td>\n",
       "      <td>5.0</td>\n",
       "      <td>Frequent customer</td>\n",
       "    </tr>\n",
       "    <tr>\n",
       "      <th>13100152</th>\n",
       "      <td>21554.0</td>\n",
       "      <td>21553.0</td>\n",
       "      <td>Lowfat 2% Milkfat Cottage Cheese</td>\n",
       "      <td>108.0</td>\n",
       "      <td>16.0</td>\n",
       "      <td>14900.0</td>\n",
       "      <td>1944.0</td>\n",
       "      <td>3264360.0</td>\n",
       "      <td>135.0</td>\n",
       "      <td>prior</td>\n",
       "      <td>...</td>\n",
       "      <td>6.0</td>\n",
       "      <td>0.0</td>\n",
       "      <td>both</td>\n",
       "      <td>Regular Day</td>\n",
       "      <td>Regular Days</td>\n",
       "      <td>Average orders</td>\n",
       "      <td>1154.792308</td>\n",
       "      <td>Higher Spender</td>\n",
       "      <td>12.0</td>\n",
       "      <td>Regular customer</td>\n",
       "    </tr>\n",
       "    <tr>\n",
       "      <th>13100153</th>\n",
       "      <td>21554.0</td>\n",
       "      <td>21553.0</td>\n",
       "      <td>Lowfat 2% Milkfat Cottage Cheese</td>\n",
       "      <td>108.0</td>\n",
       "      <td>16.0</td>\n",
       "      <td>14900.0</td>\n",
       "      <td>1945.0</td>\n",
       "      <td>892534.0</td>\n",
       "      <td>135.0</td>\n",
       "      <td>prior</td>\n",
       "      <td>...</td>\n",
       "      <td>3.0</td>\n",
       "      <td>1.0</td>\n",
       "      <td>both</td>\n",
       "      <td>Busiest day</td>\n",
       "      <td>Busiests Days</td>\n",
       "      <td>Average orders</td>\n",
       "      <td>1154.792308</td>\n",
       "      <td>Higher Spender</td>\n",
       "      <td>12.0</td>\n",
       "      <td>Regular customer</td>\n",
       "    </tr>\n",
       "    <tr>\n",
       "      <th>13100154</th>\n",
       "      <td>21554.0</td>\n",
       "      <td>21553.0</td>\n",
       "      <td>Lowfat 2% Milkfat Cottage Cheese</td>\n",
       "      <td>108.0</td>\n",
       "      <td>16.0</td>\n",
       "      <td>14900.0</td>\n",
       "      <td>5708.0</td>\n",
       "      <td>229704.0</td>\n",
       "      <td>342.0</td>\n",
       "      <td>prior</td>\n",
       "      <td>...</td>\n",
       "      <td>9.0</td>\n",
       "      <td>0.0</td>\n",
       "      <td>both</td>\n",
       "      <td>Regular Day</td>\n",
       "      <td>Busiests Days</td>\n",
       "      <td>Average orders</td>\n",
       "      <td>114.426619</td>\n",
       "      <td>Higher Spender</td>\n",
       "      <td>23.0</td>\n",
       "      <td>Non-frequent customer</td>\n",
       "    </tr>\n",
       "    <tr>\n",
       "      <th>...</th>\n",
       "      <td>...</td>\n",
       "      <td>...</td>\n",
       "      <td>...</td>\n",
       "      <td>...</td>\n",
       "      <td>...</td>\n",
       "      <td>...</td>\n",
       "      <td>...</td>\n",
       "      <td>...</td>\n",
       "      <td>...</td>\n",
       "      <td>...</td>\n",
       "      <td>...</td>\n",
       "      <td>...</td>\n",
       "      <td>...</td>\n",
       "      <td>...</td>\n",
       "      <td>...</td>\n",
       "      <td>...</td>\n",
       "      <td>...</td>\n",
       "      <td>...</td>\n",
       "      <td>...</td>\n",
       "      <td>...</td>\n",
       "      <td>...</td>\n",
       "    </tr>\n",
       "    <tr>\n",
       "      <th>21786881</th>\n",
       "      <td>33666.0</td>\n",
       "      <td>33664.0</td>\n",
       "      <td>2 % Reduced Fat  Milk</td>\n",
       "      <td>84.0</td>\n",
       "      <td>16.0</td>\n",
       "      <td>99999.0</td>\n",
       "      <td>3386542.0</td>\n",
       "      <td>2249946.0</td>\n",
       "      <td>204099.0</td>\n",
       "      <td>prior</td>\n",
       "      <td>...</td>\n",
       "      <td>1.0</td>\n",
       "      <td>0.0</td>\n",
       "      <td>both</td>\n",
       "      <td>Busiest day</td>\n",
       "      <td>Busiests Days</td>\n",
       "      <td>Average orders</td>\n",
       "      <td>1106.743956</td>\n",
       "      <td>Higher Spender</td>\n",
       "      <td>4.0</td>\n",
       "      <td>Frequent customer</td>\n",
       "    </tr>\n",
       "    <tr>\n",
       "      <th>21786882</th>\n",
       "      <td>33666.0</td>\n",
       "      <td>33664.0</td>\n",
       "      <td>2 % Reduced Fat  Milk</td>\n",
       "      <td>84.0</td>\n",
       "      <td>16.0</td>\n",
       "      <td>99999.0</td>\n",
       "      <td>3386544.0</td>\n",
       "      <td>2363282.0</td>\n",
       "      <td>204099.0</td>\n",
       "      <td>prior</td>\n",
       "      <td>...</td>\n",
       "      <td>1.0</td>\n",
       "      <td>1.0</td>\n",
       "      <td>both</td>\n",
       "      <td>Busiest day</td>\n",
       "      <td>Busiests Days</td>\n",
       "      <td>Most orders</td>\n",
       "      <td>1106.743956</td>\n",
       "      <td>Higher Spender</td>\n",
       "      <td>4.0</td>\n",
       "      <td>Frequent customer</td>\n",
       "    </tr>\n",
       "    <tr>\n",
       "      <th>21786883</th>\n",
       "      <td>33666.0</td>\n",
       "      <td>33664.0</td>\n",
       "      <td>2 % Reduced Fat  Milk</td>\n",
       "      <td>84.0</td>\n",
       "      <td>16.0</td>\n",
       "      <td>99999.0</td>\n",
       "      <td>3391313.0</td>\n",
       "      <td>3181945.0</td>\n",
       "      <td>204395.0</td>\n",
       "      <td>prior</td>\n",
       "      <td>...</td>\n",
       "      <td>25.0</td>\n",
       "      <td>0.0</td>\n",
       "      <td>both</td>\n",
       "      <td>Regular Day</td>\n",
       "      <td>Slowest Days</td>\n",
       "      <td>Most orders</td>\n",
       "      <td>451.153540</td>\n",
       "      <td>Higher Spender</td>\n",
       "      <td>5.0</td>\n",
       "      <td>Frequent customer</td>\n",
       "    </tr>\n",
       "    <tr>\n",
       "      <th>21786884</th>\n",
       "      <td>33666.0</td>\n",
       "      <td>33664.0</td>\n",
       "      <td>2 % Reduced Fat  Milk</td>\n",
       "      <td>84.0</td>\n",
       "      <td>16.0</td>\n",
       "      <td>99999.0</td>\n",
       "      <td>3405096.0</td>\n",
       "      <td>2486215.0</td>\n",
       "      <td>205227.0</td>\n",
       "      <td>prior</td>\n",
       "      <td>...</td>\n",
       "      <td>8.0</td>\n",
       "      <td>0.0</td>\n",
       "      <td>both</td>\n",
       "      <td>Regular Day</td>\n",
       "      <td>Slowest Days</td>\n",
       "      <td>Average orders</td>\n",
       "      <td>1178.381871</td>\n",
       "      <td>Higher Spender</td>\n",
       "      <td>12.0</td>\n",
       "      <td>Regular customer</td>\n",
       "    </tr>\n",
       "    <tr>\n",
       "      <th>21786885</th>\n",
       "      <td>33666.0</td>\n",
       "      <td>33664.0</td>\n",
       "      <td>2 % Reduced Fat  Milk</td>\n",
       "      <td>84.0</td>\n",
       "      <td>16.0</td>\n",
       "      <td>99999.0</td>\n",
       "      <td>3405099.0</td>\n",
       "      <td>2232716.0</td>\n",
       "      <td>205227.0</td>\n",
       "      <td>prior</td>\n",
       "      <td>...</td>\n",
       "      <td>23.0</td>\n",
       "      <td>1.0</td>\n",
       "      <td>both</td>\n",
       "      <td>Busiest day</td>\n",
       "      <td>Busiests Days</td>\n",
       "      <td>Most orders</td>\n",
       "      <td>1178.381871</td>\n",
       "      <td>Higher Spender</td>\n",
       "      <td>12.0</td>\n",
       "      <td>Regular customer</td>\n",
       "    </tr>\n",
       "  </tbody>\n",
       "</table>\n",
       "<p>5127 rows × 24 columns</p>\n",
       "</div>"
      ],
      "text/plain": [
       "          Unnamed: 0_x  product_id                      product_name  \\\n",
       "13100150       21554.0     21553.0  Lowfat 2% Milkfat Cottage Cheese   \n",
       "13100151       21554.0     21553.0  Lowfat 2% Milkfat Cottage Cheese   \n",
       "13100152       21554.0     21553.0  Lowfat 2% Milkfat Cottage Cheese   \n",
       "13100153       21554.0     21553.0  Lowfat 2% Milkfat Cottage Cheese   \n",
       "13100154       21554.0     21553.0  Lowfat 2% Milkfat Cottage Cheese   \n",
       "...                ...         ...                               ...   \n",
       "21786881       33666.0     33664.0             2 % Reduced Fat  Milk   \n",
       "21786882       33666.0     33664.0             2 % Reduced Fat  Milk   \n",
       "21786883       33666.0     33664.0             2 % Reduced Fat  Milk   \n",
       "21786884       33666.0     33664.0             2 % Reduced Fat  Milk   \n",
       "21786885       33666.0     33664.0             2 % Reduced Fat  Milk   \n",
       "\n",
       "          aisle_id  department_id   prices  Unnamed: 0_y   order_id   user_id  \\\n",
       "13100150     108.0           16.0  14900.0         171.0   912404.0      17.0   \n",
       "13100151     108.0           16.0  14900.0         181.0   603376.0      17.0   \n",
       "13100152     108.0           16.0  14900.0        1944.0  3264360.0     135.0   \n",
       "13100153     108.0           16.0  14900.0        1945.0   892534.0     135.0   \n",
       "13100154     108.0           16.0  14900.0        5708.0   229704.0     342.0   \n",
       "...            ...            ...      ...           ...        ...       ...   \n",
       "21786881      84.0           16.0  99999.0     3386542.0  2249946.0  204099.0   \n",
       "21786882      84.0           16.0  99999.0     3386544.0  2363282.0  204099.0   \n",
       "21786883      84.0           16.0  99999.0     3391313.0  3181945.0  204395.0   \n",
       "21786884      84.0           16.0  99999.0     3405096.0  2486215.0  205227.0   \n",
       "21786885      84.0           16.0  99999.0     3405099.0  2232716.0  205227.0   \n",
       "\n",
       "         eval_set  ...  add_to_cart_order  reordered  _merge  Busiest Day  \\\n",
       "13100150    prior  ...                5.0        0.0    both  Regular Day   \n",
       "13100151    prior  ...                3.0        1.0    both  Regular Day   \n",
       "13100152    prior  ...                6.0        0.0    both  Regular Day   \n",
       "13100153    prior  ...                3.0        1.0    both  Busiest day   \n",
       "13100154    prior  ...                9.0        0.0    both  Regular Day   \n",
       "...           ...  ...                ...        ...     ...          ...   \n",
       "21786881    prior  ...                1.0        0.0    both  Busiest day   \n",
       "21786882    prior  ...                1.0        1.0    both  Busiest day   \n",
       "21786883    prior  ...               25.0        0.0    both  Regular Day   \n",
       "21786884    prior  ...                8.0        0.0    both  Regular Day   \n",
       "21786885    prior  ...               23.0        1.0    both  Busiest day   \n",
       "\n",
       "           Busiest Days  busiest_period_of_day average_price   Spending Type  \\\n",
       "13100150   Regular Days            Most orders    108.648299  Higher Spender   \n",
       "13100151   Regular Days            Most orders    108.648299  Higher Spender   \n",
       "13100152   Regular Days         Average orders   1154.792308  Higher Spender   \n",
       "13100153  Busiests Days         Average orders   1154.792308  Higher Spender   \n",
       "13100154  Busiests Days         Average orders    114.426619  Higher Spender   \n",
       "...                 ...                    ...           ...             ...   \n",
       "21786881  Busiests Days         Average orders   1106.743956  Higher Spender   \n",
       "21786882  Busiests Days            Most orders   1106.743956  Higher Spender   \n",
       "21786883   Slowest Days            Most orders    451.153540  Higher Spender   \n",
       "21786884   Slowest Days         Average orders   1178.381871  Higher Spender   \n",
       "21786885  Busiests Days            Most orders   1178.381871  Higher Spender   \n",
       "\n",
       "         Median of days prior order     Customer Frequency  \n",
       "13100150                        5.0      Frequent customer  \n",
       "13100151                        5.0      Frequent customer  \n",
       "13100152                       12.0       Regular customer  \n",
       "13100153                       12.0       Regular customer  \n",
       "13100154                       23.0  Non-frequent customer  \n",
       "...                             ...                    ...  \n",
       "21786881                        4.0      Frequent customer  \n",
       "21786882                        4.0      Frequent customer  \n",
       "21786883                        5.0      Frequent customer  \n",
       "21786884                       12.0       Regular customer  \n",
       "21786885                       12.0       Regular customer  \n",
       "\n",
       "[5127 rows x 24 columns]"
      ]
     },
     "execution_count": 25,
     "metadata": {},
     "output_type": "execute_result"
    }
   ],
   "source": [
    "df_vis.loc[df_vis['prices']>100]"
   ]
  },
  {
   "cell_type": "code",
   "execution_count": 29,
   "id": "b91d8bb8-bc21-4a1e-a3d2-5664ac61e3fb",
   "metadata": {},
   "outputs": [],
   "source": [
    "df_vis.loc[df_vis['prices'] >100, 'prices'] = np.nan"
   ]
  },
  {
   "cell_type": "code",
   "execution_count": 31,
   "id": "918053e6-d8d5-4d76-bd47-4a21bd53dae9",
   "metadata": {},
   "outputs": [
    {
     "data": {
      "text/plain": [
       "25.0"
      ]
     },
     "execution_count": 31,
     "metadata": {},
     "output_type": "execute_result"
    }
   ],
   "source": [
    "df_vis['prices'].max()"
   ]
  },
  {
   "cell_type": "code",
   "execution_count": 33,
   "id": "a32c3647-1cb1-4dbb-89d5-72ff5ec12692",
   "metadata": {},
   "outputs": [],
   "source": [
    "df_vis.loc[df_vis['prices']>100,'prices'] = np.nan"
   ]
  },
  {
   "cell_type": "code",
   "execution_count": 35,
   "id": "b7b22a94-6ee6-4e52-b0b1-e5cb7e0f896c",
   "metadata": {},
   "outputs": [
    {
     "data": {
      "text/plain": [
       "25.0"
      ]
     },
     "execution_count": 35,
     "metadata": {},
     "output_type": "execute_result"
    }
   ],
   "source": [
    "df_vis['prices'].max()"
   ]
  },
  {
   "cell_type": "code",
   "execution_count": 37,
   "id": "fa2c6523-aff2-45c1-b768-697c059c4bb6",
   "metadata": {},
   "outputs": [
    {
     "data": {
      "text/plain": [
       "<Axes: ylabel='Frequency'>"
      ]
     },
     "execution_count": 37,
     "metadata": {},
     "output_type": "execute_result"
    },
    {
     "data": {
      "image/png": "[encoded data removed]",
      "text/plain": [
       "<Figure size 640x480 with 1 Axes>"
      ]
     },
     "metadata": {},
     "output_type": "display_data"
    }
   ],
   "source": [
    "df_vis['prices'].plot.hist(bins = 25)"
   ]
  },
  {
   "cell_type": "code",
   "execution_count": 115,
   "id": "9163ab1c-e492-4b42-b8d1-5a20f4313e93",
   "metadata": {},
   "outputs": [
    {
     "data": {
      "text/plain": [
       "<Axes: ylabel='Frequency'>"
      ]
     },
     "execution_count": 115,
     "metadata": {},
     "output_type": "execute_result"
    },
    {
     "data": {
      "image/png": "[encoded data removed]",
      "text/plain": [
       "<Figure size 640x480 with 1 Axes>"
      ]
     },
     "metadata": {},
     "output_type": "display_data"
    }
   ],
   "source": [
    "df_vis['prices'].plot.hist(bins = 75)"
   ]
  },
  {
   "cell_type": "markdown",
   "id": "5681290f-6756-42c9-823c-c7db6594a2b8",
   "metadata": {},
   "source": [
    "As bins is increased granuality is also higher"
   ]
  },
  {
   "cell_type": "code",
   "execution_count": 133,
   "id": "c4a886d6-ab49-47bd-81ed-1acdab6db13f",
   "metadata": {},
   "outputs": [
    {
     "data": {
      "image/png": "[encoded data removed]",
      "text/plain": [
       "<Figure size 640x480 with 1 Axes>"
      ]
     },
     "metadata": {},
     "output_type": "display_data"
    }
   ],
   "source": [
    "histt = df_vis['prices'].plot.hist(bins = 75)"
   ]
  },
  {
   "cell_type": "code",
   "execution_count": 135,
   "id": "3fb1f719-f808-4a78-98ae-5ec5dc83e255",
   "metadata": {},
   "outputs": [],
   "source": [
    "histt.figure.savefig(os.path.join(path,'histogram.png'))"
   ]
  },
  {
   "cell_type": "code",
   "execution_count": 44,
   "id": "fab128ea-0821-4b93-853a-684955fb94a5",
   "metadata": {},
   "outputs": [
    {
     "data": {
      "text/plain": [
       "32641279"
      ]
     },
     "execution_count": 44,
     "metadata": {},
     "output_type": "execute_result"
    }
   ],
   "source": [
    "len(dis"
   ]
  },
  {
   "cell_type": "code",
   "execution_count": 50,
   "id": "3cc21453-ca59-4149-8e68-0884d16fdf14",
   "metadata": {},
   "outputs": [],
   "source": [
    "#creating line chart\n",
    "#sampling\n",
    "np.random.seed(4)\n",
    "dev = np.random.rand(len(df_vis)) <= 0.7"
   ]
  },
  {
   "cell_type": "code",
   "execution_count": 52,
   "id": "435c722c-67a9-4260-831f-2d3499809840",
   "metadata": {},
   "outputs": [
    {
     "data": {
      "text/plain": [
       "array([False,  True, False, ...,  True,  True,  True])"
      ]
     },
     "execution_count": 52,
     "metadata": {},
     "output_type": "execute_result"
    }
   ],
   "source": [
    "dev"
   ]
  },
  {
   "cell_type": "code",
   "execution_count": 57,
   "id": "af3e7a6d-a405-4927-897a-6b77e8a2a2d8",
   "metadata": {},
   "outputs": [],
   "source": [
    "big =df_vis[dev]\n",
    "small = df_vis[~dev]"
   ]
  },
  {
   "cell_type": "code",
   "execution_count": 59,
   "id": "f1e69a68-faa9-4da0-9c1e-2010a75e7d10",
   "metadata": {},
   "outputs": [
    {
     "data": {
      "text/html": [
       "<div>\n",
       "<style scoped>\n",
       "    .dataframe tbody tr th:only-of-type {\n",
       "        vertical-align: middle;\n",
       "    }\n",
       "\n",
       "    .dataframe tbody tr th {\n",
       "        vertical-align: top;\n",
       "    }\n",
       "\n",
       "    .dataframe thead th {\n",
       "        text-align: right;\n",
       "    }\n",
       "</style>\n",
       "<table border=\"1\" class=\"dataframe\">\n",
       "  <thead>\n",
       "    <tr style=\"text-align: right;\">\n",
       "      <th></th>\n",
       "      <th>Unnamed: 0_x</th>\n",
       "      <th>product_id</th>\n",
       "      <th>product_name</th>\n",
       "      <th>aisle_id</th>\n",
       "      <th>department_id</th>\n",
       "      <th>prices</th>\n",
       "      <th>Unnamed: 0_y</th>\n",
       "      <th>order_id</th>\n",
       "      <th>user_id</th>\n",
       "      <th>eval_set</th>\n",
       "      <th>...</th>\n",
       "      <th>add_to_cart_order</th>\n",
       "      <th>reordered</th>\n",
       "      <th>_merge</th>\n",
       "      <th>Busiest Day</th>\n",
       "      <th>Busiest Days</th>\n",
       "      <th>busiest_period_of_day</th>\n",
       "      <th>average_price</th>\n",
       "      <th>Spending Type</th>\n",
       "      <th>Median of days prior order</th>\n",
       "      <th>Customer Frequency</th>\n",
       "    </tr>\n",
       "  </thead>\n",
       "  <tbody>\n",
       "    <tr>\n",
       "      <th>1</th>\n",
       "      <td>0.0</td>\n",
       "      <td>1.0</td>\n",
       "      <td>Chocolate Sandwich Cookies</td>\n",
       "      <td>61.0</td>\n",
       "      <td>19.0</td>\n",
       "      <td>5.8</td>\n",
       "      <td>1989.0</td>\n",
       "      <td>1977647.0</td>\n",
       "      <td>138.0</td>\n",
       "      <td>prior</td>\n",
       "      <td>...</td>\n",
       "      <td>1.0</td>\n",
       "      <td>1.0</td>\n",
       "      <td>both</td>\n",
       "      <td>Regular Day</td>\n",
       "      <td>Regular Days</td>\n",
       "      <td>Average orders</td>\n",
       "      <td>6.935811</td>\n",
       "      <td>Low Spender</td>\n",
       "      <td>8.0</td>\n",
       "      <td>Frequent customer</td>\n",
       "    </tr>\n",
       "    <tr>\n",
       "      <th>4</th>\n",
       "      <td>0.0</td>\n",
       "      <td>1.0</td>\n",
       "      <td>Chocolate Sandwich Cookies</td>\n",
       "      <td>61.0</td>\n",
       "      <td>19.0</td>\n",
       "      <td>5.8</td>\n",
       "      <td>12200.0</td>\n",
       "      <td>1813452.0</td>\n",
       "      <td>764.0</td>\n",
       "      <td>prior</td>\n",
       "      <td>...</td>\n",
       "      <td>11.0</td>\n",
       "      <td>1.0</td>\n",
       "      <td>both</td>\n",
       "      <td>Least Busy</td>\n",
       "      <td>Slowest Days</td>\n",
       "      <td>Average orders</td>\n",
       "      <td>4.972414</td>\n",
       "      <td>Low Spender</td>\n",
       "      <td>9.0</td>\n",
       "      <td>Frequent customer</td>\n",
       "    </tr>\n",
       "    <tr>\n",
       "      <th>5</th>\n",
       "      <td>0.0</td>\n",
       "      <td>1.0</td>\n",
       "      <td>Chocolate Sandwich Cookies</td>\n",
       "      <td>61.0</td>\n",
       "      <td>19.0</td>\n",
       "      <td>5.8</td>\n",
       "      <td>12372.0</td>\n",
       "      <td>1701441.0</td>\n",
       "      <td>777.0</td>\n",
       "      <td>prior</td>\n",
       "      <td>...</td>\n",
       "      <td>7.0</td>\n",
       "      <td>0.0</td>\n",
       "      <td>both</td>\n",
       "      <td>Regular Day</td>\n",
       "      <td>Busiests Days</td>\n",
       "      <td>Average orders</td>\n",
       "      <td>6.935398</td>\n",
       "      <td>Low Spender</td>\n",
       "      <td>11.0</td>\n",
       "      <td>Regular customer</td>\n",
       "    </tr>\n",
       "    <tr>\n",
       "      <th>7</th>\n",
       "      <td>0.0</td>\n",
       "      <td>1.0</td>\n",
       "      <td>Chocolate Sandwich Cookies</td>\n",
       "      <td>61.0</td>\n",
       "      <td>19.0</td>\n",
       "      <td>5.8</td>\n",
       "      <td>14603.0</td>\n",
       "      <td>1290456.0</td>\n",
       "      <td>910.0</td>\n",
       "      <td>prior</td>\n",
       "      <td>...</td>\n",
       "      <td>1.0</td>\n",
       "      <td>0.0</td>\n",
       "      <td>both</td>\n",
       "      <td>Regular Day</td>\n",
       "      <td>Slowest Days</td>\n",
       "      <td>Most orders</td>\n",
       "      <td>6.680000</td>\n",
       "      <td>Low Spender</td>\n",
       "      <td>3.5</td>\n",
       "      <td>Frequent customer</td>\n",
       "    </tr>\n",
       "    <tr>\n",
       "      <th>8</th>\n",
       "      <td>0.0</td>\n",
       "      <td>1.0</td>\n",
       "      <td>Chocolate Sandwich Cookies</td>\n",
       "      <td>61.0</td>\n",
       "      <td>19.0</td>\n",
       "      <td>5.8</td>\n",
       "      <td>17065.0</td>\n",
       "      <td>369558.0</td>\n",
       "      <td>1052.0</td>\n",
       "      <td>prior</td>\n",
       "      <td>...</td>\n",
       "      <td>1.0</td>\n",
       "      <td>0.0</td>\n",
       "      <td>both</td>\n",
       "      <td>Regular Day</td>\n",
       "      <td>Busiests Days</td>\n",
       "      <td>Average orders</td>\n",
       "      <td>7.162500</td>\n",
       "      <td>Low Spender</td>\n",
       "      <td>9.5</td>\n",
       "      <td>Frequent customer</td>\n",
       "    </tr>\n",
       "    <tr>\n",
       "      <th>...</th>\n",
       "      <td>...</td>\n",
       "      <td>...</td>\n",
       "      <td>...</td>\n",
       "      <td>...</td>\n",
       "      <td>...</td>\n",
       "      <td>...</td>\n",
       "      <td>...</td>\n",
       "      <td>...</td>\n",
       "      <td>...</td>\n",
       "      <td>...</td>\n",
       "      <td>...</td>\n",
       "      <td>...</td>\n",
       "      <td>...</td>\n",
       "      <td>...</td>\n",
       "      <td>...</td>\n",
       "      <td>...</td>\n",
       "      <td>...</td>\n",
       "      <td>...</td>\n",
       "      <td>...</td>\n",
       "      <td>...</td>\n",
       "      <td>...</td>\n",
       "    </tr>\n",
       "    <tr>\n",
       "      <th>32641274</th>\n",
       "      <td>NaN</td>\n",
       "      <td>69.0</td>\n",
       "      <td>NaN</td>\n",
       "      <td>NaN</td>\n",
       "      <td>NaN</td>\n",
       "      <td>NaN</td>\n",
       "      <td>2979541.0</td>\n",
       "      <td>1514902.0</td>\n",
       "      <td>179816.0</td>\n",
       "      <td>prior</td>\n",
       "      <td>...</td>\n",
       "      <td>11.0</td>\n",
       "      <td>1.0</td>\n",
       "      <td>both</td>\n",
       "      <td>Regular Day</td>\n",
       "      <td>Regular Days</td>\n",
       "      <td>Average orders</td>\n",
       "      <td>7.078506</td>\n",
       "      <td>Low Spender</td>\n",
       "      <td>8.0</td>\n",
       "      <td>Frequent customer</td>\n",
       "    </tr>\n",
       "    <tr>\n",
       "      <th>32641275</th>\n",
       "      <td>NaN</td>\n",
       "      <td>69.0</td>\n",
       "      <td>NaN</td>\n",
       "      <td>NaN</td>\n",
       "      <td>NaN</td>\n",
       "      <td>NaN</td>\n",
       "      <td>2979542.0</td>\n",
       "      <td>3287190.0</td>\n",
       "      <td>179816.0</td>\n",
       "      <td>prior</td>\n",
       "      <td>...</td>\n",
       "      <td>4.0</td>\n",
       "      <td>1.0</td>\n",
       "      <td>both</td>\n",
       "      <td>Regular Day</td>\n",
       "      <td>Regular Days</td>\n",
       "      <td>Most orders</td>\n",
       "      <td>7.078506</td>\n",
       "      <td>Low Spender</td>\n",
       "      <td>8.0</td>\n",
       "      <td>Frequent customer</td>\n",
       "    </tr>\n",
       "    <tr>\n",
       "      <th>32641276</th>\n",
       "      <td>NaN</td>\n",
       "      <td>69.0</td>\n",
       "      <td>NaN</td>\n",
       "      <td>NaN</td>\n",
       "      <td>NaN</td>\n",
       "      <td>NaN</td>\n",
       "      <td>2979545.0</td>\n",
       "      <td>2943026.0</td>\n",
       "      <td>179816.0</td>\n",
       "      <td>prior</td>\n",
       "      <td>...</td>\n",
       "      <td>14.0</td>\n",
       "      <td>1.0</td>\n",
       "      <td>both</td>\n",
       "      <td>Busiest day</td>\n",
       "      <td>Busiests Days</td>\n",
       "      <td>Most orders</td>\n",
       "      <td>7.078506</td>\n",
       "      <td>Low Spender</td>\n",
       "      <td>8.0</td>\n",
       "      <td>Frequent customer</td>\n",
       "    </tr>\n",
       "    <tr>\n",
       "      <th>32641277</th>\n",
       "      <td>NaN</td>\n",
       "      <td>69.0</td>\n",
       "      <td>NaN</td>\n",
       "      <td>NaN</td>\n",
       "      <td>NaN</td>\n",
       "      <td>NaN</td>\n",
       "      <td>2979552.0</td>\n",
       "      <td>2108832.0</td>\n",
       "      <td>179816.0</td>\n",
       "      <td>prior</td>\n",
       "      <td>...</td>\n",
       "      <td>12.0</td>\n",
       "      <td>1.0</td>\n",
       "      <td>both</td>\n",
       "      <td>Regular Day</td>\n",
       "      <td>Regular Days</td>\n",
       "      <td>Most orders</td>\n",
       "      <td>7.078506</td>\n",
       "      <td>Low Spender</td>\n",
       "      <td>8.0</td>\n",
       "      <td>Frequent customer</td>\n",
       "    </tr>\n",
       "    <tr>\n",
       "      <th>32641278</th>\n",
       "      <td>NaN</td>\n",
       "      <td>69.0</td>\n",
       "      <td>NaN</td>\n",
       "      <td>NaN</td>\n",
       "      <td>NaN</td>\n",
       "      <td>NaN</td>\n",
       "      <td>3365289.0</td>\n",
       "      <td>1077336.0</td>\n",
       "      <td>202849.0</td>\n",
       "      <td>prior</td>\n",
       "      <td>...</td>\n",
       "      <td>27.0</td>\n",
       "      <td>0.0</td>\n",
       "      <td>both</td>\n",
       "      <td>Regular Day</td>\n",
       "      <td>Busiests Days</td>\n",
       "      <td>Most orders</td>\n",
       "      <td>20.078024</td>\n",
       "      <td>Higher Spender</td>\n",
       "      <td>6.0</td>\n",
       "      <td>Frequent customer</td>\n",
       "    </tr>\n",
       "  </tbody>\n",
       "</table>\n",
       "<p>22849753 rows × 24 columns</p>\n",
       "</div>"
      ],
      "text/plain": [
       "          Unnamed: 0_x  product_id                product_name  aisle_id  \\\n",
       "1                  0.0         1.0  Chocolate Sandwich Cookies      61.0   \n",
       "4                  0.0         1.0  Chocolate Sandwich Cookies      61.0   \n",
       "5                  0.0         1.0  Chocolate Sandwich Cookies      61.0   \n",
       "7                  0.0         1.0  Chocolate Sandwich Cookies      61.0   \n",
       "8                  0.0         1.0  Chocolate Sandwich Cookies      61.0   \n",
       "...                ...         ...                         ...       ...   \n",
       "32641274           NaN        69.0                         NaN       NaN   \n",
       "32641275           NaN        69.0                         NaN       NaN   \n",
       "32641276           NaN        69.0                         NaN       NaN   \n",
       "32641277           NaN        69.0                         NaN       NaN   \n",
       "32641278           NaN        69.0                         NaN       NaN   \n",
       "\n",
       "          department_id  prices  Unnamed: 0_y   order_id   user_id eval_set  \\\n",
       "1                  19.0     5.8        1989.0  1977647.0     138.0    prior   \n",
       "4                  19.0     5.8       12200.0  1813452.0     764.0    prior   \n",
       "5                  19.0     5.8       12372.0  1701441.0     777.0    prior   \n",
       "7                  19.0     5.8       14603.0  1290456.0     910.0    prior   \n",
       "8                  19.0     5.8       17065.0   369558.0    1052.0    prior   \n",
       "...                 ...     ...           ...        ...       ...      ...   \n",
       "32641274            NaN     NaN     2979541.0  1514902.0  179816.0    prior   \n",
       "32641275            NaN     NaN     2979542.0  3287190.0  179816.0    prior   \n",
       "32641276            NaN     NaN     2979545.0  2943026.0  179816.0    prior   \n",
       "32641277            NaN     NaN     2979552.0  2108832.0  179816.0    prior   \n",
       "32641278            NaN     NaN     3365289.0  1077336.0  202849.0    prior   \n",
       "\n",
       "          ...  add_to_cart_order  reordered  _merge  Busiest Day  \\\n",
       "1         ...                1.0        1.0    both  Regular Day   \n",
       "4         ...               11.0        1.0    both   Least Busy   \n",
       "5         ...                7.0        0.0    both  Regular Day   \n",
       "7         ...                1.0        0.0    both  Regular Day   \n",
       "8         ...                1.0        0.0    both  Regular Day   \n",
       "...       ...                ...        ...     ...          ...   \n",
       "32641274  ...               11.0        1.0    both  Regular Day   \n",
       "32641275  ...                4.0        1.0    both  Regular Day   \n",
       "32641276  ...               14.0        1.0    both  Busiest day   \n",
       "32641277  ...               12.0        1.0    both  Regular Day   \n",
       "32641278  ...               27.0        0.0    both  Regular Day   \n",
       "\n",
       "           Busiest Days  busiest_period_of_day average_price   Spending Type  \\\n",
       "1          Regular Days         Average orders      6.935811     Low Spender   \n",
       "4          Slowest Days         Average orders      4.972414     Low Spender   \n",
       "5         Busiests Days         Average orders      6.935398     Low Spender   \n",
       "7          Slowest Days            Most orders      6.680000     Low Spender   \n",
       "8         Busiests Days         Average orders      7.162500     Low Spender   \n",
       "...                 ...                    ...           ...             ...   \n",
       "32641274   Regular Days         Average orders      7.078506     Low Spender   \n",
       "32641275   Regular Days            Most orders      7.078506     Low Spender   \n",
       "32641276  Busiests Days            Most orders      7.078506     Low Spender   \n",
       "32641277   Regular Days            Most orders      7.078506     Low Spender   \n",
       "32641278  Busiests Days            Most orders     20.078024  Higher Spender   \n",
       "\n",
       "         Median of days prior order Customer Frequency  \n",
       "1                               8.0  Frequent customer  \n",
       "4                               9.0  Frequent customer  \n",
       "5                              11.0   Regular customer  \n",
       "7                               3.5  Frequent customer  \n",
       "8                               9.5  Frequent customer  \n",
       "...                             ...                ...  \n",
       "32641274                        8.0  Frequent customer  \n",
       "32641275                        8.0  Frequent customer  \n",
       "32641276                        8.0  Frequent customer  \n",
       "32641277                        8.0  Frequent customer  \n",
       "32641278                        6.0  Frequent customer  \n",
       "\n",
       "[22849753 rows x 24 columns]"
      ]
     },
     "execution_count": 59,
     "metadata": {},
     "output_type": "execute_result"
    }
   ],
   "source": [
    "big"
   ]
  },
  {
   "cell_type": "code",
   "execution_count": 61,
   "id": "9e365c1d-3ef3-4352-af33-cbdc05555548",
   "metadata": {},
   "outputs": [
    {
     "data": {
      "text/html": [
       "<div>\n",
       "<style scoped>\n",
       "    .dataframe tbody tr th:only-of-type {\n",
       "        vertical-align: middle;\n",
       "    }\n",
       "\n",
       "    .dataframe tbody tr th {\n",
       "        vertical-align: top;\n",
       "    }\n",
       "\n",
       "    .dataframe thead th {\n",
       "        text-align: right;\n",
       "    }\n",
       "</style>\n",
       "<table border=\"1\" class=\"dataframe\">\n",
       "  <thead>\n",
       "    <tr style=\"text-align: right;\">\n",
       "      <th></th>\n",
       "      <th>Unnamed: 0_x</th>\n",
       "      <th>product_id</th>\n",
       "      <th>product_name</th>\n",
       "      <th>aisle_id</th>\n",
       "      <th>department_id</th>\n",
       "      <th>prices</th>\n",
       "      <th>Unnamed: 0_y</th>\n",
       "      <th>order_id</th>\n",
       "      <th>user_id</th>\n",
       "      <th>eval_set</th>\n",
       "      <th>...</th>\n",
       "      <th>add_to_cart_order</th>\n",
       "      <th>reordered</th>\n",
       "      <th>_merge</th>\n",
       "      <th>Busiest Day</th>\n",
       "      <th>Busiest Days</th>\n",
       "      <th>busiest_period_of_day</th>\n",
       "      <th>average_price</th>\n",
       "      <th>Spending Type</th>\n",
       "      <th>Median of days prior order</th>\n",
       "      <th>Customer Frequency</th>\n",
       "    </tr>\n",
       "  </thead>\n",
       "  <tbody>\n",
       "    <tr>\n",
       "      <th>0</th>\n",
       "      <td>0.0</td>\n",
       "      <td>1.0</td>\n",
       "      <td>Chocolate Sandwich Cookies</td>\n",
       "      <td>61.0</td>\n",
       "      <td>19.0</td>\n",
       "      <td>5.8</td>\n",
       "      <td>1987.0</td>\n",
       "      <td>3139998.0</td>\n",
       "      <td>138.0</td>\n",
       "      <td>prior</td>\n",
       "      <td>...</td>\n",
       "      <td>5.0</td>\n",
       "      <td>0.0</td>\n",
       "      <td>both</td>\n",
       "      <td>Regular Day</td>\n",
       "      <td>Regular Days</td>\n",
       "      <td>Most orders</td>\n",
       "      <td>6.935811</td>\n",
       "      <td>Low Spender</td>\n",
       "      <td>8.0</td>\n",
       "      <td>Frequent customer</td>\n",
       "    </tr>\n",
       "    <tr>\n",
       "      <th>2</th>\n",
       "      <td>0.0</td>\n",
       "      <td>1.0</td>\n",
       "      <td>Chocolate Sandwich Cookies</td>\n",
       "      <td>61.0</td>\n",
       "      <td>19.0</td>\n",
       "      <td>5.8</td>\n",
       "      <td>11433.0</td>\n",
       "      <td>389851.0</td>\n",
       "      <td>709.0</td>\n",
       "      <td>prior</td>\n",
       "      <td>...</td>\n",
       "      <td>20.0</td>\n",
       "      <td>0.0</td>\n",
       "      <td>both</td>\n",
       "      <td>Busiest day</td>\n",
       "      <td>Busiests Days</td>\n",
       "      <td>Average orders</td>\n",
       "      <td>7.930208</td>\n",
       "      <td>Low Spender</td>\n",
       "      <td>8.0</td>\n",
       "      <td>Frequent customer</td>\n",
       "    </tr>\n",
       "    <tr>\n",
       "      <th>3</th>\n",
       "      <td>0.0</td>\n",
       "      <td>1.0</td>\n",
       "      <td>Chocolate Sandwich Cookies</td>\n",
       "      <td>61.0</td>\n",
       "      <td>19.0</td>\n",
       "      <td>5.8</td>\n",
       "      <td>12198.0</td>\n",
       "      <td>652770.0</td>\n",
       "      <td>764.0</td>\n",
       "      <td>prior</td>\n",
       "      <td>...</td>\n",
       "      <td>10.0</td>\n",
       "      <td>0.0</td>\n",
       "      <td>both</td>\n",
       "      <td>Regular Day</td>\n",
       "      <td>Slowest Days</td>\n",
       "      <td>Most orders</td>\n",
       "      <td>4.972414</td>\n",
       "      <td>Low Spender</td>\n",
       "      <td>9.0</td>\n",
       "      <td>Frequent customer</td>\n",
       "    </tr>\n",
       "    <tr>\n",
       "      <th>6</th>\n",
       "      <td>0.0</td>\n",
       "      <td>1.0</td>\n",
       "      <td>Chocolate Sandwich Cookies</td>\n",
       "      <td>61.0</td>\n",
       "      <td>19.0</td>\n",
       "      <td>5.8</td>\n",
       "      <td>13096.0</td>\n",
       "      <td>1871483.0</td>\n",
       "      <td>825.0</td>\n",
       "      <td>prior</td>\n",
       "      <td>...</td>\n",
       "      <td>2.0</td>\n",
       "      <td>0.0</td>\n",
       "      <td>both</td>\n",
       "      <td>Regular Day</td>\n",
       "      <td>Regular Days</td>\n",
       "      <td>Most orders</td>\n",
       "      <td>5.957576</td>\n",
       "      <td>Low Spender</td>\n",
       "      <td>20.0</td>\n",
       "      <td>Regular customer</td>\n",
       "    </tr>\n",
       "    <tr>\n",
       "      <th>10</th>\n",
       "      <td>0.0</td>\n",
       "      <td>1.0</td>\n",
       "      <td>Chocolate Sandwich Cookies</td>\n",
       "      <td>61.0</td>\n",
       "      <td>19.0</td>\n",
       "      <td>5.8</td>\n",
       "      <td>22082.0</td>\n",
       "      <td>1798115.0</td>\n",
       "      <td>1379.0</td>\n",
       "      <td>prior</td>\n",
       "      <td>...</td>\n",
       "      <td>1.0</td>\n",
       "      <td>0.0</td>\n",
       "      <td>both</td>\n",
       "      <td>Regular Day</td>\n",
       "      <td>Regular Days</td>\n",
       "      <td>Most orders</td>\n",
       "      <td>5.813636</td>\n",
       "      <td>Low Spender</td>\n",
       "      <td>20.0</td>\n",
       "      <td>Regular customer</td>\n",
       "    </tr>\n",
       "    <tr>\n",
       "      <th>...</th>\n",
       "      <td>...</td>\n",
       "      <td>...</td>\n",
       "      <td>...</td>\n",
       "      <td>...</td>\n",
       "      <td>...</td>\n",
       "      <td>...</td>\n",
       "      <td>...</td>\n",
       "      <td>...</td>\n",
       "      <td>...</td>\n",
       "      <td>...</td>\n",
       "      <td>...</td>\n",
       "      <td>...</td>\n",
       "      <td>...</td>\n",
       "      <td>...</td>\n",
       "      <td>...</td>\n",
       "      <td>...</td>\n",
       "      <td>...</td>\n",
       "      <td>...</td>\n",
       "      <td>...</td>\n",
       "      <td>...</td>\n",
       "      <td>...</td>\n",
       "    </tr>\n",
       "    <tr>\n",
       "      <th>32641264</th>\n",
       "      <td>NaN</td>\n",
       "      <td>69.0</td>\n",
       "      <td>NaN</td>\n",
       "      <td>NaN</td>\n",
       "      <td>NaN</td>\n",
       "      <td>NaN</td>\n",
       "      <td>1634886.0</td>\n",
       "      <td>3088470.0</td>\n",
       "      <td>98156.0</td>\n",
       "      <td>prior</td>\n",
       "      <td>...</td>\n",
       "      <td>2.0</td>\n",
       "      <td>0.0</td>\n",
       "      <td>both</td>\n",
       "      <td>Regular Day</td>\n",
       "      <td>Regular Days</td>\n",
       "      <td>Average orders</td>\n",
       "      <td>7.369534</td>\n",
       "      <td>Low Spender</td>\n",
       "      <td>5.0</td>\n",
       "      <td>Frequent customer</td>\n",
       "    </tr>\n",
       "    <tr>\n",
       "      <th>32641266</th>\n",
       "      <td>NaN</td>\n",
       "      <td>69.0</td>\n",
       "      <td>NaN</td>\n",
       "      <td>NaN</td>\n",
       "      <td>NaN</td>\n",
       "      <td>NaN</td>\n",
       "      <td>1971424.0</td>\n",
       "      <td>1209890.0</td>\n",
       "      <td>118394.0</td>\n",
       "      <td>prior</td>\n",
       "      <td>...</td>\n",
       "      <td>14.0</td>\n",
       "      <td>0.0</td>\n",
       "      <td>both</td>\n",
       "      <td>Regular Day</td>\n",
       "      <td>Regular Days</td>\n",
       "      <td>Most orders</td>\n",
       "      <td>6.667200</td>\n",
       "      <td>Low Spender</td>\n",
       "      <td>20.0</td>\n",
       "      <td>Regular customer</td>\n",
       "    </tr>\n",
       "    <tr>\n",
       "      <th>32641268</th>\n",
       "      <td>NaN</td>\n",
       "      <td>69.0</td>\n",
       "      <td>NaN</td>\n",
       "      <td>NaN</td>\n",
       "      <td>NaN</td>\n",
       "      <td>NaN</td>\n",
       "      <td>2052867.0</td>\n",
       "      <td>1791495.0</td>\n",
       "      <td>123364.0</td>\n",
       "      <td>prior</td>\n",
       "      <td>...</td>\n",
       "      <td>8.0</td>\n",
       "      <td>0.0</td>\n",
       "      <td>both</td>\n",
       "      <td>Regular Day</td>\n",
       "      <td>Slowest Days</td>\n",
       "      <td>Average orders</td>\n",
       "      <td>8.307447</td>\n",
       "      <td>Low Spender</td>\n",
       "      <td>8.0</td>\n",
       "      <td>Frequent customer</td>\n",
       "    </tr>\n",
       "    <tr>\n",
       "      <th>32641272</th>\n",
       "      <td>NaN</td>\n",
       "      <td>69.0</td>\n",
       "      <td>NaN</td>\n",
       "      <td>NaN</td>\n",
       "      <td>NaN</td>\n",
       "      <td>NaN</td>\n",
       "      <td>2979538.0</td>\n",
       "      <td>2292157.0</td>\n",
       "      <td>179816.0</td>\n",
       "      <td>prior</td>\n",
       "      <td>...</td>\n",
       "      <td>14.0</td>\n",
       "      <td>0.0</td>\n",
       "      <td>both</td>\n",
       "      <td>Regular Day</td>\n",
       "      <td>Regular Days</td>\n",
       "      <td>Most orders</td>\n",
       "      <td>7.078506</td>\n",
       "      <td>Low Spender</td>\n",
       "      <td>8.0</td>\n",
       "      <td>Frequent customer</td>\n",
       "    </tr>\n",
       "    <tr>\n",
       "      <th>32641273</th>\n",
       "      <td>NaN</td>\n",
       "      <td>69.0</td>\n",
       "      <td>NaN</td>\n",
       "      <td>NaN</td>\n",
       "      <td>NaN</td>\n",
       "      <td>NaN</td>\n",
       "      <td>2979539.0</td>\n",
       "      <td>892197.0</td>\n",
       "      <td>179816.0</td>\n",
       "      <td>prior</td>\n",
       "      <td>...</td>\n",
       "      <td>1.0</td>\n",
       "      <td>1.0</td>\n",
       "      <td>both</td>\n",
       "      <td>Regular Day</td>\n",
       "      <td>Busiests Days</td>\n",
       "      <td>Average orders</td>\n",
       "      <td>7.078506</td>\n",
       "      <td>Low Spender</td>\n",
       "      <td>8.0</td>\n",
       "      <td>Frequent customer</td>\n",
       "    </tr>\n",
       "  </tbody>\n",
       "</table>\n",
       "<p>9791526 rows × 24 columns</p>\n",
       "</div>"
      ],
      "text/plain": [
       "          Unnamed: 0_x  product_id                product_name  aisle_id  \\\n",
       "0                  0.0         1.0  Chocolate Sandwich Cookies      61.0   \n",
       "2                  0.0         1.0  Chocolate Sandwich Cookies      61.0   \n",
       "3                  0.0         1.0  Chocolate Sandwich Cookies      61.0   \n",
       "6                  0.0         1.0  Chocolate Sandwich Cookies      61.0   \n",
       "10                 0.0         1.0  Chocolate Sandwich Cookies      61.0   \n",
       "...                ...         ...                         ...       ...   \n",
       "32641264           NaN        69.0                         NaN       NaN   \n",
       "32641266           NaN        69.0                         NaN       NaN   \n",
       "32641268           NaN        69.0                         NaN       NaN   \n",
       "32641272           NaN        69.0                         NaN       NaN   \n",
       "32641273           NaN        69.0                         NaN       NaN   \n",
       "\n",
       "          department_id  prices  Unnamed: 0_y   order_id   user_id eval_set  \\\n",
       "0                  19.0     5.8        1987.0  3139998.0     138.0    prior   \n",
       "2                  19.0     5.8       11433.0   389851.0     709.0    prior   \n",
       "3                  19.0     5.8       12198.0   652770.0     764.0    prior   \n",
       "6                  19.0     5.8       13096.0  1871483.0     825.0    prior   \n",
       "10                 19.0     5.8       22082.0  1798115.0    1379.0    prior   \n",
       "...                 ...     ...           ...        ...       ...      ...   \n",
       "32641264            NaN     NaN     1634886.0  3088470.0   98156.0    prior   \n",
       "32641266            NaN     NaN     1971424.0  1209890.0  118394.0    prior   \n",
       "32641268            NaN     NaN     2052867.0  1791495.0  123364.0    prior   \n",
       "32641272            NaN     NaN     2979538.0  2292157.0  179816.0    prior   \n",
       "32641273            NaN     NaN     2979539.0   892197.0  179816.0    prior   \n",
       "\n",
       "          ...  add_to_cart_order  reordered  _merge  Busiest Day  \\\n",
       "0         ...                5.0        0.0    both  Regular Day   \n",
       "2         ...               20.0        0.0    both  Busiest day   \n",
       "3         ...               10.0        0.0    both  Regular Day   \n",
       "6         ...                2.0        0.0    both  Regular Day   \n",
       "10        ...                1.0        0.0    both  Regular Day   \n",
       "...       ...                ...        ...     ...          ...   \n",
       "32641264  ...                2.0        0.0    both  Regular Day   \n",
       "32641266  ...               14.0        0.0    both  Regular Day   \n",
       "32641268  ...                8.0        0.0    both  Regular Day   \n",
       "32641272  ...               14.0        0.0    both  Regular Day   \n",
       "32641273  ...                1.0        1.0    both  Regular Day   \n",
       "\n",
       "           Busiest Days  busiest_period_of_day average_price Spending Type  \\\n",
       "0          Regular Days            Most orders      6.935811   Low Spender   \n",
       "2         Busiests Days         Average orders      7.930208   Low Spender   \n",
       "3          Slowest Days            Most orders      4.972414   Low Spender   \n",
       "6          Regular Days            Most orders      5.957576   Low Spender   \n",
       "10         Regular Days            Most orders      5.813636   Low Spender   \n",
       "...                 ...                    ...           ...           ...   \n",
       "32641264   Regular Days         Average orders      7.369534   Low Spender   \n",
       "32641266   Regular Days            Most orders      6.667200   Low Spender   \n",
       "32641268   Slowest Days         Average orders      8.307447   Low Spender   \n",
       "32641272   Regular Days            Most orders      7.078506   Low Spender   \n",
       "32641273  Busiests Days         Average orders      7.078506   Low Spender   \n",
       "\n",
       "         Median of days prior order Customer Frequency  \n",
       "0                               8.0  Frequent customer  \n",
       "2                               8.0  Frequent customer  \n",
       "3                               9.0  Frequent customer  \n",
       "6                              20.0   Regular customer  \n",
       "10                             20.0   Regular customer  \n",
       "...                             ...                ...  \n",
       "32641264                        5.0  Frequent customer  \n",
       "32641266                       20.0   Regular customer  \n",
       "32641268                        8.0  Frequent customer  \n",
       "32641272                        8.0  Frequent customer  \n",
       "32641273                        8.0  Frequent customer  \n",
       "\n",
       "[9791526 rows x 24 columns]"
      ]
     },
     "execution_count": 61,
     "metadata": {},
     "output_type": "execute_result"
    }
   ],
   "source": [
    "small"
   ]
  },
  {
   "cell_type": "code",
   "execution_count": 63,
   "id": "dac963aa-2fc3-452d-800b-e54b8ce9362e",
   "metadata": {},
   "outputs": [
    {
     "data": {
      "text/plain": [
       "32641279"
      ]
     },
     "execution_count": 63,
     "metadata": {},
     "output_type": "execute_result"
    }
   ],
   "source": [
    "len(df_vis)"
   ]
  },
  {
   "cell_type": "code",
   "execution_count": 65,
   "id": "8186153d-ef51-4c8e-9a2a-e57e4f09e256",
   "metadata": {},
   "outputs": [
    {
     "data": {
      "text/plain": [
       "32641279"
      ]
     },
     "execution_count": 65,
     "metadata": {},
     "output_type": "execute_result"
    }
   ],
   "source": [
    "len(big) + len(small)"
   ]
  },
  {
   "cell_type": "code",
   "execution_count": 75,
   "id": "2efd95b4-d9fe-43b1-9a9a-16e08d78c534",
   "metadata": {},
   "outputs": [
    {
     "data": {
      "text/plain": [
       "Index(['Unnamed: 0_x', 'product_id', 'product_name', 'aisle_id',\n",
       "       'department_id', 'prices', 'Unnamed: 0_y', 'order_id', 'user_id',\n",
       "       'eval_set', 'order_number', 'orders_day_of_week', 'order_hour_of_day',\n",
       "       'days_since_prior_order', 'add_to_cart_order', 'reordered', '_merge',\n",
       "       'Busiest Day', 'Busiest Days', 'busiest_period_of_day', 'average_price',\n",
       "       'Spending Type', 'Median of days prior order', 'Customer Frequency'],\n",
       "      dtype='object')"
      ]
     },
     "execution_count": 75,
     "metadata": {},
     "output_type": "execute_result"
    }
   ],
   "source": [
    "df_vis.columns"
   ]
  },
  {
   "cell_type": "code",
   "execution_count": 73,
   "id": "91748ad8-48a4-421b-a8a4-ce06406952f4",
   "metadata": {},
   "outputs": [],
   "source": [
    "df_vis.rename(columns  = { 'order_day' : 'orders_day_of_week'},inplace =True)"
   ]
  },
  {
   "cell_type": "code",
   "execution_count": 87,
   "id": "e46642cb-1e34-474d-a508-9e8c77ea1f8f",
   "metadata": {},
   "outputs": [],
   "source": [
    "small.columns = small.columns.to_series().apply(lambda x: x.strip())"
   ]
  },
  {
   "cell_type": "code",
   "execution_count": 89,
   "id": "e7a89d53-4a9c-4203-a025-377c0c71afdf",
   "metadata": {},
   "outputs": [
    {
     "ename": "KeyError",
     "evalue": "\"['orders_day_of_week'] not in index\"",
     "output_type": "error",
     "traceback": [
      "\u001b[1;31m---------------------------------------------------------------------------\u001b[0m",
      "\u001b[1;31mKeyError\u001b[0m                                  Traceback (most recent call last)",
      "Cell \u001b[1;32mIn[89], line 1\u001b[0m\n\u001b[1;32m----> 1\u001b[0m df_vis_1 \u001b[38;5;241m=\u001b[39m small[[\u001b[38;5;124m'\u001b[39m\u001b[38;5;124morders_day_of_week\u001b[39m\u001b[38;5;124m'\u001b[39m,\u001b[38;5;124m'\u001b[39m\u001b[38;5;124mprices\u001b[39m\u001b[38;5;124m'\u001b[39m]]\n",
      "File \u001b[1;32m~\\anaconda3\\Lib\\site-packages\\pandas\\core\\frame.py:4108\u001b[0m, in \u001b[0;36mDataFrame.__getitem__\u001b[1;34m(self, key)\u001b[0m\n\u001b[0;32m   4106\u001b[0m     \u001b[38;5;28;01mif\u001b[39;00m is_iterator(key):\n\u001b[0;32m   4107\u001b[0m         key \u001b[38;5;241m=\u001b[39m \u001b[38;5;28mlist\u001b[39m(key)\n\u001b[1;32m-> 4108\u001b[0m     indexer \u001b[38;5;241m=\u001b[39m \u001b[38;5;28mself\u001b[39m\u001b[38;5;241m.\u001b[39mcolumns\u001b[38;5;241m.\u001b[39m_get_indexer_strict(key, \u001b[38;5;124m\"\u001b[39m\u001b[38;5;124mcolumns\u001b[39m\u001b[38;5;124m\"\u001b[39m)[\u001b[38;5;241m1\u001b[39m]\n\u001b[0;32m   4110\u001b[0m \u001b[38;5;66;03m# take() does not accept boolean indexers\u001b[39;00m\n\u001b[0;32m   4111\u001b[0m \u001b[38;5;28;01mif\u001b[39;00m \u001b[38;5;28mgetattr\u001b[39m(indexer, \u001b[38;5;124m\"\u001b[39m\u001b[38;5;124mdtype\u001b[39m\u001b[38;5;124m\"\u001b[39m, \u001b[38;5;28;01mNone\u001b[39;00m) \u001b[38;5;241m==\u001b[39m \u001b[38;5;28mbool\u001b[39m:\n",
      "File \u001b[1;32m~\\anaconda3\\Lib\\site-packages\\pandas\\core\\indexes\\base.py:6200\u001b[0m, in \u001b[0;36mIndex._get_indexer_strict\u001b[1;34m(self, key, axis_name)\u001b[0m\n\u001b[0;32m   6197\u001b[0m \u001b[38;5;28;01melse\u001b[39;00m:\n\u001b[0;32m   6198\u001b[0m     keyarr, indexer, new_indexer \u001b[38;5;241m=\u001b[39m \u001b[38;5;28mself\u001b[39m\u001b[38;5;241m.\u001b[39m_reindex_non_unique(keyarr)\n\u001b[1;32m-> 6200\u001b[0m \u001b[38;5;28mself\u001b[39m\u001b[38;5;241m.\u001b[39m_raise_if_missing(keyarr, indexer, axis_name)\n\u001b[0;32m   6202\u001b[0m keyarr \u001b[38;5;241m=\u001b[39m \u001b[38;5;28mself\u001b[39m\u001b[38;5;241m.\u001b[39mtake(indexer)\n\u001b[0;32m   6203\u001b[0m \u001b[38;5;28;01mif\u001b[39;00m \u001b[38;5;28misinstance\u001b[39m(key, Index):\n\u001b[0;32m   6204\u001b[0m     \u001b[38;5;66;03m# GH 42790 - Preserve name from an Index\u001b[39;00m\n",
      "File \u001b[1;32m~\\anaconda3\\Lib\\site-packages\\pandas\\core\\indexes\\base.py:6252\u001b[0m, in \u001b[0;36mIndex._raise_if_missing\u001b[1;34m(self, key, indexer, axis_name)\u001b[0m\n\u001b[0;32m   6249\u001b[0m     \u001b[38;5;28;01mraise\u001b[39;00m \u001b[38;5;167;01mKeyError\u001b[39;00m(\u001b[38;5;124mf\u001b[39m\u001b[38;5;124m\"\u001b[39m\u001b[38;5;124mNone of [\u001b[39m\u001b[38;5;132;01m{\u001b[39;00mkey\u001b[38;5;132;01m}\u001b[39;00m\u001b[38;5;124m] are in the [\u001b[39m\u001b[38;5;132;01m{\u001b[39;00maxis_name\u001b[38;5;132;01m}\u001b[39;00m\u001b[38;5;124m]\u001b[39m\u001b[38;5;124m\"\u001b[39m)\n\u001b[0;32m   6251\u001b[0m not_found \u001b[38;5;241m=\u001b[39m \u001b[38;5;28mlist\u001b[39m(ensure_index(key)[missing_mask\u001b[38;5;241m.\u001b[39mnonzero()[\u001b[38;5;241m0\u001b[39m]]\u001b[38;5;241m.\u001b[39munique())\n\u001b[1;32m-> 6252\u001b[0m \u001b[38;5;28;01mraise\u001b[39;00m \u001b[38;5;167;01mKeyError\u001b[39;00m(\u001b[38;5;124mf\u001b[39m\u001b[38;5;124m\"\u001b[39m\u001b[38;5;132;01m{\u001b[39;00mnot_found\u001b[38;5;132;01m}\u001b[39;00m\u001b[38;5;124m not in index\u001b[39m\u001b[38;5;124m\"\u001b[39m)\n",
      "\u001b[1;31mKeyError\u001b[0m: \"['orders_day_of_week'] not in index\""
     ]
    }
   ],
   "source": [
    "df_vis_1 = small[['orders_day_of_week','prices']]"
   ]
  },
  {
   "cell_type": "code",
   "execution_count": 95,
   "id": "05019ec6-7244-444e-88c5-4e7161d17df3",
   "metadata": {},
   "outputs": [
    {
     "name": "stderr",
     "output_type": "stream",
     "text": [
      "C:\\Users\\91928\\AppData\\Local\\Temp\\ipykernel_14284\\1772248353.py:1: SettingWithCopyWarning: \n",
      "A value is trying to be set on a copy of a slice from a DataFrame\n",
      "\n",
      "See the caveats in the documentation: https://pandas.pydata.org/pandas-docs/stable/user_guide/indexing.html#returning-a-view-versus-a-copy\n",
      "  small.rename(columns = {'order_day' : 'orders_day_of_week'},inplace =True)\n"
     ]
    }
   ],
   "source": [
    "small.rename(columns = {'order_day' : 'orders_day_of_week'},inplace =True)"
   ]
  },
  {
   "cell_type": "code",
   "execution_count": 97,
   "id": "095aac95-c87c-4146-ae80-2c48360f51d2",
   "metadata": {},
   "outputs": [
    {
     "data": {
      "text/plain": [
       "Index(['Unnamed: 0_x', 'product_id', 'product_name', 'aisle_id',\n",
       "       'department_id', 'prices', 'Unnamed: 0_y', 'order_id', 'user_id',\n",
       "       'eval_set', 'order_number', 'orders_day_of_week', 'order_hour_of_day',\n",
       "       'days_since_prior_order', 'add_to_cart_order', 'reordered', '_merge',\n",
       "       'Busiest Day', 'Busiest Days', 'busiest_period_of_day', 'average_price',\n",
       "       'Spending Type', 'Median of days prior order', 'Customer Frequency'],\n",
       "      dtype='object')"
      ]
     },
     "execution_count": 97,
     "metadata": {},
     "output_type": "execute_result"
    }
   ],
   "source": [
    "small.columns"
   ]
  },
  {
   "cell_type": "code",
   "execution_count": 99,
   "id": "dfa6c277-1633-4ae6-948c-921c74aa855c",
   "metadata": {},
   "outputs": [],
   "source": [
    "df_vis_2 = small[['orders_day_of_week','prices']]"
   ]
  },
  {
   "cell_type": "code",
   "execution_count": 101,
   "id": "2f818aba-c583-407e-9ee7-2ac72b52d0eb",
   "metadata": {},
   "outputs": [
    {
     "data": {
      "image/png": "[encoded data removed]",
      "text/plain": [
       "<Figure size 640x480 with 1 Axes>"
      ]
     },
     "metadata": {},
     "output_type": "display_data"
    }
   ],
   "source": [
    "#creating a line chart\n",
    "line2 = sns.lineplot(data = df_vis_2,x = 'orders_day_of_week', y ='prices')"
   ]
  },
  {
   "cell_type": "code",
   "execution_count": 141,
   "id": "4776a8c6-5d1f-4fcb-8bff-2c8b03670d8d",
   "metadata": {},
   "outputs": [],
   "source": [
    "line2.figure.savefig(os.path.join(path,'line_chart'))"
   ]
  },
  {
   "cell_type": "code",
   "execution_count": null,
   "id": "ef56e11e-025f-42cc-85b5-3c317d9ac567",
   "metadata": {},
   "outputs": [],
   "source": []
  }
 ],
 "metadata": {
  "kernelspec": {
   "display_name": "Python 3 (ipykernel)",
   "language": "python",
   "name": "python3"
  },
  "language_info": {
   "codemirror_mode": {
    "name": "ipython",
    "version": 3
   },
   "file_extension": ".py",
   "mimetype": "text/x-python",
   "name": "python",
   "nbconvert_exporter": "python",
   "pygments_lexer": "ipython3",
   "version": "3.12.4"
  }
 },
 "nbformat": 4,
 "nbformat_minor": 5
}
